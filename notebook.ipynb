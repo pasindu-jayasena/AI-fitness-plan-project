{
  "cells": [
    {
      "cell_type": "code",
      "execution_count": 1,
      "metadata": {
        "colab": {
          "base_uri": "https://localhost:8080/"
        },
        "id": "U_Cn4oWCXwZz",
        "outputId": "375a1ec6-0c07-40c5-8eb0-4acef5975410"
      },
      "outputs": [
        {
          "ename": "ModuleNotFoundError",
          "evalue": "No module named 'pandas'",
          "output_type": "error",
          "traceback": [
            "\u001b[1;31m---------------------------------------------------------------------------\u001b[0m",
            "\u001b[1;31mModuleNotFoundError\u001b[0m                       Traceback (most recent call last)",
            "Cell \u001b[1;32mIn[1], line 2\u001b[0m\n\u001b[0;32m      1\u001b[0m \u001b[38;5;66;03m# Import necessary libraries\u001b[39;00m\n\u001b[1;32m----> 2\u001b[0m \u001b[38;5;28;01mimport\u001b[39;00m \u001b[38;5;21;01mpandas\u001b[39;00m \u001b[38;5;28;01mas\u001b[39;00m \u001b[38;5;21;01mpd\u001b[39;00m\n\u001b[0;32m      3\u001b[0m \u001b[38;5;28;01mimport\u001b[39;00m \u001b[38;5;21;01mnumpy\u001b[39;00m \u001b[38;5;28;01mas\u001b[39;00m \u001b[38;5;21;01mnp\u001b[39;00m\n\u001b[0;32m      4\u001b[0m \u001b[38;5;28;01mimport\u001b[39;00m \u001b[38;5;21;01mmatplotlib\u001b[39;00m\u001b[38;5;21;01m.\u001b[39;00m\u001b[38;5;21;01mpyplot\u001b[39;00m \u001b[38;5;28;01mas\u001b[39;00m \u001b[38;5;21;01mplt\u001b[39;00m\n",
            "\u001b[1;31mModuleNotFoundError\u001b[0m: No module named 'pandas'"
          ]
        }
      ],
      "source": [
        "# Import necessary libraries\n",
        "import pandas as pd\n",
        "import numpy as np\n",
        "import matplotlib.pyplot as plt\n",
        "import seaborn as sns\n",
        "from sklearn.model_selection import train_test_split, StratifiedKFold, cross_val_score\n",
        "from sklearn.preprocessing import RobustScaler, OneHotEncoder, LabelEncoder\n",
        "from sklearn.compose import ColumnTransformer\n",
        "from sklearn.metrics import accuracy_score, classification_report, confusion_matrix\n",
        "from sklearn.utils import class_weight\n",
        "from imblearn.over_sampling import SMOTE\n",
        "from sklearn.feature_selection import SelectKBest, f_classif\n",
        "from sklearn.inspection import permutation_importance\n",
        "import tensorflow as tf\n",
        "from tensorflow.keras.models import Sequential\n",
        "from tensorflow.keras.layers import Dense, Dropout, BatchNormalization\n",
        "from tensorflow.keras.callbacks import EarlyStopping, History\n",
        "from tensorflow.keras.optimizers import Adam\n",
        "from tensorflow.keras.regularizers import l2\n",
        "import xgboost as xgb\n",
        "from sklearn.ensemble import RandomForestClassifier\n",
        "from sklearn.svm import SVC\n",
        "import joblib\n",
        "import os\n",
        "import warnings\n",
        "warnings.filterwarnings('ignore')\n",
        "\n",
        "# Set random seeds for reproducibility\n",
        "np.random.seed(42)\n",
        "tf.random.set_seed(42)\n",
        "\n",
        "# Mount Google Drive\n",
        "from google.colab import drive\n",
        "drive.mount('/content/drive')\n",
        "\n",
        "# 1. Data Loading and Initial Inspection\n",
        "def load_data(filepath):\n",
        "    \"\"\"Load and inspect the dataset\"\"\"\n",
        "    data = pd.read_csv(filepath)\n",
        "    print(\"Dataset shape:\", data.shape)\n",
        "    print(\"\\nColumns:\", data.columns.tolist())\n",
        "    print(\"\\nData types:\\n\", data.dtypes)\n",
        "    print(\"\\nMissing values:\\n\", data.isnull().sum())\n",
        "    return data\n",
        "\n",
        "# 2. Enhanced Data Cleaning\n",
        "def clean_data(data):\n",
        "    \"\"\"Perform comprehensive data cleaning\"\"\"\n",
        "    # Drop unnecessary or redundant columns\n",
        "    cols_to_drop = ['User ID', 'VO2 Max', 'Body Fat (%)', 'Workout Type', 'Mood Before Workout', 'Mood After Workout']\n",
        "    data = data.drop(columns=[col for col in cols_to_drop if col in data.columns])\n",
        "\n",
        "    # Handle missing values\n",
        "    numerical_cols = data.select_dtypes(include=['int64', 'float64']).columns\n",
        "    categorical_cols = data.select_dtypes(include=['object']).columns\n",
        "\n",
        "    for col in numerical_cols:\n",
        "        data[col] = data[col].fillna(data[col].median())\n",
        "\n",
        "    for col in categorical_cols:\n",
        "        data[col] = data[col].fillna(data[col].mode()[0])\n",
        "\n",
        "    # Remove duplicates\n",
        "    data = data.drop_duplicates()\n",
        "\n",
        "    # Handle outliers using IQR method\n",
        "    def cap_outliers(series):\n",
        "        Q1 = series.quantile(0.25)\n",
        "        Q3 = series.quantile(0.75)\n",
        "        IQR = Q3 - Q1\n",
        "        lower_bound = Q1 - 1.5 * IQR\n",
        "        upper_bound = Q3 + 1.5 * IQR\n",
        "        return series.clip(lower_bound, upper_bound)\n",
        "\n",
        "    for col in numerical_cols:\n",
        "        data[col] = cap_outliers(data[col])\n",
        "\n",
        "    return data\n",
        "\n",
        "# 3. Improved Feature Engineering\n",
        "def engineer_features(data):\n",
        "    \"\"\"Create meaningful features based on domain knowledge\"\"\"\n",
        "    # Basic health metrics\n",
        "    data['BMI'] = data['Weight (kg)'] / ((data['Height (cm)']/100) ** 2)\n",
        "    data['HR_Reserve'] = data['Heart Rate (bpm)'] - data['Resting Heart Rate (bpm)']\n",
        "\n",
        "    # Activity efficiency metrics\n",
        "    data['Caloric_Efficiency'] = data['Calories Burned'] / (data['Workout Duration (mins)'] + 1e-6)\n",
        "    data['Step_Efficiency'] = data['Steps Taken'] / (data['Workout Duration (mins)'] + 1e-6)\n",
        "\n",
        "    # Fitness level approximation\n",
        "    data['Fitness_Level'] = (data['Calories Burned'] / data['Weight (kg)']) * (data['Heart Rate (bpm)'] / data['Resting Heart Rate (bpm)'])\n",
        "\n",
        "    # Interaction terms\n",
        "    data['Age_Intensity'] = data['Age'] * data['Workout Intensity'].map({'low':1, 'medium':2, 'high':3})\n",
        "    data['BMI_Intensity'] = data['BMI'] * data['Workout Intensity'].map({'low':1, 'medium':2, 'high':3})\n",
        "\n",
        "    # Remove infinities and nulls\n",
        "    data = data.replace([np.inf, -np.inf], np.nan)\n",
        "\n",
        "    # Fill missing values: numerical with median, categorical with mode\n",
        "    numerical_cols = data.select_dtypes(include=['int64', 'float64']).columns\n",
        "    categorical_cols = data.select_dtypes(include=['object']).columns\n",
        "\n",
        "    for col in numerical_cols:\n",
        "        data[col] = data[col].fillna(data[col].median())\n",
        "\n",
        "    for col in categorical_cols:\n",
        "        data[col] = data[col].fillna(data[col].mode()[0])\n",
        "\n",
        "    return data\n",
        "\n",
        "# 4. Target Variable Engineering\n",
        "def create_target_variable(data):\n",
        "    \"\"\"Create more meaningful target variable based on multiple factors\"\"\"\n",
        "    conditions = [\n",
        "        # Cardio-focused: High heart rate, high calories burned relative to duration\n",
        "        (data['HR_Reserve'] > 40) & (data['Caloric_Efficiency'] > 10),\n",
        "\n",
        "        # Strength-focused: Lower cardio metrics but higher BMI\n",
        "        (data['BMI'] > 25) & (data['HR_Reserve'] < 30),\n",
        "\n",
        "        # Endurance: Moderate metrics across the board\n",
        "        (data['HR_Reserve'].between(20, 40)) & (data['Caloric_Efficiency'].between(5, 10))\n",
        "    ]\n",
        "\n",
        "    choices = ['cardio-focused', 'strength-focused', 'endurance']\n",
        "    data['Fitness_Plan'] = np.select(conditions, choices, default='balanced')\n",
        "\n",
        "    # Ensure balanced classes (if needed)\n",
        "    min_class_size = data['Fitness_Plan'].value_counts().min()\n",
        "    balanced_data = pd.DataFrame()\n",
        "\n",
        "    for plan in data['Fitness_Plan'].unique():\n",
        "        class_data = data[data['Fitness_Plan'] == plan]\n",
        "        balanced_data = pd.concat([balanced_data, class_data.sample(min_class_size, random_state=42)])\n",
        "\n",
        "    return balanced_data\n",
        "\n",
        "# 5. Advanced Feature Selection\n",
        "def select_features(X, y):\n",
        "    \"\"\"Perform feature selection using multiple methods\"\"\"\n",
        "    # Separate numerical and categorical columns\n",
        "    numerical_cols = X.select_dtypes(include=['int64', 'float64']).columns\n",
        "    categorical_cols = X.select_dtypes(include=['object']).columns\n",
        "\n",
        "    # Correlation analysis on numerical columns only\n",
        "    if len(numerical_cols) > 0:\n",
        "        corr_matrix = X[numerical_cols].corr().abs()\n",
        "        upper = corr_matrix.where(np.triu(np.ones(corr_matrix.shape), k=1).astype(bool))\n",
        "        to_drop = [column for column in upper.columns if any(upper[column] > 0.85)]\n",
        "    else:\n",
        "        to_drop = []\n",
        "\n",
        "    # Drop highly correlated numerical features\n",
        "    X = X.drop(columns=to_drop)\n",
        "\n",
        "    # Update numerical columns after dropping\n",
        "    numerical_cols = X.select_dtypes(include=['int64', 'float64']).columns\n",
        "\n",
        "    # Preprocess data for ANOVA feature selection\n",
        "    preprocessor = ColumnTransformer(\n",
        "        transformers=[\n",
        "            ('num', RobustScaler(), numerical_cols),\n",
        "            ('cat', OneHotEncoder(drop='first', handle_unknown='ignore'), categorical_cols)\n",
        "        ])\n",
        "\n",
        "    X_transformed = preprocessor.fit_transform(X)\n",
        "\n",
        "    # Convert to DataFrame with appropriate column names\n",
        "    cat_feature_names = preprocessor.named_transformers_['cat'].get_feature_names_out(categorical_cols)\n",
        "    all_feature_names = list(numerical_cols) + list(cat_feature_names)\n",
        "    X_transformed_df = pd.DataFrame(X_transformed, columns=all_feature_names)\n",
        "\n",
        "    # Fill NaN values to ensure compatibility with SelectKBest\n",
        "    X_transformed_df = X_transformed_df.fillna(X_transformed_df.median())\n",
        "\n",
        "    # Debug NaN values\n",
        "    print(\"NaN counts after median fill:\\n\", X_transformed_df.isnull().sum())\n",
        "\n",
        "    # Validate no NaN values\n",
        "    if X_transformed_df.isnull().sum().sum() > 0:\n",
        "        print(\"Warning: NaN values detected after filling. Filling with 0 as a fallback.\")\n",
        "        X_transformed_df = X_transformed_df.fillna(0)\n",
        "\n",
        "    # ANOVA feature selection\n",
        "    selector = SelectKBest(f_classif, k=min(15, X_transformed_df.shape[1]))\n",
        "    X_selected = selector.fit_transform(X_transformed_df, y)\n",
        "    selected_features = X_transformed_df.columns[selector.get_support()]\n",
        "\n",
        "    # Map selected features back to original features\n",
        "    original_features = []\n",
        "    for feature in selected_features:\n",
        "        if feature in numerical_cols:\n",
        "            original_features.append(feature)\n",
        "        else:\n",
        "            # Extract the original categorical column name\n",
        "            for cat_col in categorical_cols:\n",
        "                if feature.startswith(cat_col):\n",
        "                    if cat_col not in original_features:\n",
        "                        original_features.append(cat_col)\n",
        "\n",
        "    return X[original_features]\n",
        "\n",
        "# 6. Model Building - Enhanced ANN\n",
        "def build_ann_model(input_shape, num_classes):\n",
        "    \"\"\"Create optimized ANN architecture\"\"\"\n",
        "    model = Sequential([\n",
        "        Dense(128, activation='relu', input_shape=(input_shape,), kernel_regularizer=l2(0.01)),\n",
        "        BatchNormalization(),\n",
        "        Dropout(0.4),\n",
        "        Dense(64, activation='relu', kernel_regularizer=l2(0.01)),\n",
        "        BatchNormalization(),\n",
        "        Dropout(0.3),\n",
        "        Dense(32, activation='relu', kernel_regularizer=l2(0.01)),\n",
        "        BatchNormalization(),\n",
        "        Dropout(0.2),\n",
        "        Dense(num_classes, activation='softmax')\n",
        "    ])\n",
        "\n",
        "    optimizer = Adam(learning_rate=0.0001)\n",
        "    model.compile(optimizer=optimizer,\n",
        "                  loss='sparse_categorical_crossentropy',\n",
        "                  metrics=['accuracy'])\n",
        "\n",
        "    return model\n",
        "\n",
        "# 7. Model Building - Optimized XGBoost\n",
        "def build_xgboost_model():\n",
        "    \"\"\"Create optimized XGBoost model\"\"\"\n",
        "    model = xgb.XGBClassifier(\n",
        "        max_depth=4,\n",
        "        learning_rate=0.1,\n",
        "        n_estimators=200,\n",
        "        subsample=0.8,\n",
        "        colsample_bytree=0.8,\n",
        "        reg_alpha=0.5,\n",
        "        reg_lambda=0.5,\n",
        "        gamma=0.1,\n",
        "        min_child_weight=3,\n",
        "        use_label_encoder=False,\n",
        "        eval_metric='mlogloss',\n",
        "        random_state=42\n",
        "    )\n",
        "    return model\n",
        "\n",
        "# 8. Custom Cross-Validation for ANN\n",
        "def cross_validate_ann(X, y, input_shape, num_classes, cv, epochs=100, batch_size=32):\n",
        "    \"\"\"Custom cross-validation for ANN model\"\"\"\n",
        "    scores = []\n",
        "    skf = StratifiedKFold(n_splits=cv.n_splits, shuffle=True, random_state=42)\n",
        "\n",
        "    for train_idx, val_idx in skf.split(X, y):\n",
        "        X_train, X_val = X[train_idx], X[val_idx]\n",
        "        y_train, y_val = y[train_idx], y[val_idx]\n",
        "\n",
        "        # Build and train ANN\n",
        "        model = build_ann_model(input_shape, num_classes)\n",
        "        early_stopping = EarlyStopping(monitor='val_loss', patience=10, restore_best_weights=True)\n",
        "        model.fit(\n",
        "            X_train, y_train,\n",
        "            epochs=epochs,\n",
        "            batch_size=batch_size,\n",
        "            validation_data=(X_val, y_val),\n",
        "            callbacks=[early_stopping],\n",
        "            verbose=0\n",
        "        )\n",
        "\n",
        "        # Evaluate on validation fold\n",
        "        y_pred = np.argmax(model.predict(X_val), axis=1)\n",
        "        score = accuracy_score(y_val, y_pred)\n",
        "        scores.append(score)\n",
        "\n",
        "    return np.array(scores)\n",
        "\n",
        "# 9. Model Evaluation\n",
        "def evaluate_model(model, X_test, y_test, feature_names, model_name='Model', history=None):\n",
        "    \"\"\"Comprehensive model evaluation\"\"\"\n",
        "    # Handle ANN prediction differently\n",
        "    if isinstance(model, tf.keras.Model):\n",
        "        y_pred = np.argmax(model.predict(X_test), axis=1)\n",
        "    else:\n",
        "        y_pred = model.predict(X_test)\n",
        "\n",
        "    print(f\"\\n{model_name} Performance:\")\n",
        "    print(\"Accuracy:\", accuracy_score(y_test, y_pred))\n",
        "    print(\"\\nClassification Report:\\n\", classification_report(y_test, y_pred))\n",
        "\n",
        "    # Confusion matrix\n",
        "    plt.figure(figsize=(8, 6))\n",
        "    cm = confusion_matrix(y_test, y_pred)\n",
        "    sns.heatmap(cm, annot=True, fmt='d', cmap='Blues')\n",
        "    plt.title(f'{model_name} Confusion Matrix')\n",
        "    plt.xlabel('Predicted')\n",
        "    plt.ylabel('Actual')\n",
        "    plt.savefig(f'figures/{model_name.lower()}_confusion_matrix.png')\n",
        "    plt.close()\n",
        "\n",
        "    # Feature importance for tree-based models\n",
        "    if hasattr(model, 'feature_importances_'):\n",
        "        feat_importances = pd.Series(model.feature_importances_, index=feature_names)\n",
        "        plt.figure(figsize=(10, 6))\n",
        "        feat_importances.nlargest(10).plot(kind='barh')\n",
        "        plt.title(f'{model_name} Feature Importance')\n",
        "        plt.savefig(f'figures/{model_name.lower()}_feature_importance.png')\n",
        "        plt.close()\n",
        "\n",
        "    # Plot training history for ANN\n",
        "    if history and isinstance(model, tf.keras.Model):\n",
        "        plt.figure(figsize=(12, 4))\n",
        "\n",
        "        plt.subplot(1, 2, 1)\n",
        "        plt.plot(history['loss'], label='Training Loss')\n",
        "        plt.plot(history['val_loss'], label='Validation Loss')\n",
        "        plt.title(f'{model_name} Training and Validation Loss')\n",
        "        plt.xlabel('Epoch')\n",
        "        plt.ylabel('Loss')\n",
        "        plt.legend()\n",
        "\n",
        "        plt.subplot(1, 2, 2)\n",
        "        plt.plot(history['accuracy'], label='Training Accuracy')\n",
        "        plt.plot(history['val_accuracy'], label='Validation Accuracy')\n",
        "        plt.title(f'{model_name} Training and Validation Accuracy')\n",
        "        plt.xlabel('Epoch')\n",
        "        plt.ylabel('Accuracy')\n",
        "        plt.legend()\n",
        "        plt.savefig(f'figures/{model_name.lower()}_training_history.png')\n",
        "        plt.close()\n",
        "\n",
        "# Main Pipeline\n",
        "def main():\n",
        "    # Create directories\n",
        "    os.makedirs('figures', exist_ok=True)\n",
        "\n",
        "    # Load dataset from Google Drive\n",
        "    data_path = '/content/drive/My Drive/ML Project/fitness_data.csv'\n",
        "    data = load_data(data_path)\n",
        "\n",
        "    # Clean data\n",
        "    cleaned_data = clean_data(data)\n",
        "\n",
        "    # Feature engineering\n",
        "    engineered_data = engineer_features(cleaned_data)\n",
        "\n",
        "    # Create target variable\n",
        "    final_data = create_target_variable(engineered_data)\n",
        "\n",
        "    # Prepare features and target\n",
        "    X = final_data.drop(columns=['Fitness_Plan'])\n",
        "    y = final_data['Fitness_Plan']\n",
        "\n",
        "    # Encode target variable\n",
        "    le = LabelEncoder()\n",
        "    y_encoded = le.fit_transform(y)\n",
        "\n",
        "    # Feature selection\n",
        "    X_selected = select_features(X, y_encoded)\n",
        "\n",
        "    # Preprocessing pipeline\n",
        "    numerical_cols = X_selected.select_dtypes(include=['int64', 'float64']).columns\n",
        "    categorical_cols = X_selected.select_dtypes(include=['object']).columns\n",
        "\n",
        "    preprocessor = ColumnTransformer(\n",
        "        transformers=[\n",
        "            ('num', RobustScaler(), numerical_cols),\n",
        "            ('cat', OneHotEncoder(handle_unknown='ignore'), categorical_cols)\n",
        "        ])\n",
        "\n",
        "    # Split data\n",
        "    X_train, X_test, y_train, y_test = train_test_split(\n",
        "        X_selected, y_encoded, test_size=0.2, random_state=42, stratify=y_encoded)\n",
        "\n",
        "    # Apply preprocessing and get feature names\n",
        "    X_train_processed = preprocessor.fit_transform(X_train)\n",
        "    X_test_processed = preprocessor.transform(X_test)\n",
        "\n",
        "    # Get feature names after preprocessing\n",
        "    cat_feature_names = preprocessor.named_transformers_['cat'].get_feature_names_out(categorical_cols)\n",
        "    all_feature_names = list(numerical_cols) + list(cat_feature_names)\n",
        "\n",
        "    # Convert sparse matrix to dense for ANN compatibility\n",
        "    X_train_processed = X_train_processed.toarray() if hasattr(X_train_processed, 'toarray') else X_train_processed\n",
        "    X_test_processed = X_test_processed.toarray() if hasattr(X_test_processed, 'toarray') else X_test_processed\n",
        "\n",
        "    # Handle class imbalance\n",
        "    smote = SMOTE(random_state=42)\n",
        "    X_train_res, y_train_res = smote.fit_resample(X_train_processed, y_train)\n",
        "\n",
        "    # Cross-validation for statistical measures\n",
        "    cv = StratifiedKFold(n_splits=5, shuffle=True, random_state=42)\n",
        "\n",
        "    # ANN Custom Cross-validation\n",
        "    ann_cv_scores = cross_validate_ann(X_train_res, y_train_res, X_train_res.shape[1], len(np.unique(y_train_res)), cv)\n",
        "    print(\"\\nANN Cross-Validation Scores:\", ann_cv_scores)\n",
        "    print(\"ANN Mean CV Accuracy:\", ann_cv_scores.mean())\n",
        "    print(\"ANN Standard Deviation:\", ann_cv_scores.std())\n",
        "\n",
        "    # XGBoost Cross-validation\n",
        "    xgb_model = build_xgboost_model()\n",
        "    xgb_cv_scores = cross_val_score(xgb_model, X_train_res, y_train_res, cv=cv, scoring='accuracy')\n",
        "    print(\"\\nXGBoost Cross-Validation Scores:\", xgb_cv_scores)\n",
        "    print(\"XGBoost Mean CV Accuracy:\", xgb_cv_scores.mean())\n",
        "    print(\"XGBoost Standard Deviation:\", xgb_cv_scores.std())\n",
        "\n",
        "    # Box plot of cross-validation scores\n",
        "    plt.figure(figsize=(10, 6))\n",
        "    plt.boxplot([ann_cv_scores, xgb_cv_scores], labels=['ANN', 'XGBoost'])\n",
        "    plt.title('Cross-Validation Accuracy Comparison')\n",
        "    plt.ylabel('Accuracy')\n",
        "    plt.savefig('figures/cv_accuracy_comparison.png')\n",
        "    plt.close()\n",
        "\n",
        "    # Build and train ANN\n",
        "    ann_model = build_ann_model(X_train_res.shape[1], len(np.unique(y_train_res)))\n",
        "    early_stopping = EarlyStopping(monitor='val_loss', patience=10, restore_best_weights=True)\n",
        "    history = ann_model.fit(\n",
        "        X_train_res, y_train_res,\n",
        "        epochs=100,\n",
        "        batch_size=32,\n",
        "        validation_split=0.2,\n",
        "        callbacks=[early_stopping],\n",
        "        verbose=1)\n",
        "\n",
        "    # Build and train XGBoost\n",
        "    xgb_model = build_xgboost_model()\n",
        "    xgb_model.fit(X_train_res, y_train_res)\n",
        "\n",
        "    # Evaluate models\n",
        "    evaluate_model(ann_model, X_test_processed, y_test, all_feature_names, 'ANN', history.history)\n",
        "    evaluate_model(xgb_model, X_test_processed, y_test, all_feature_names, 'XGBoost')\n",
        "\n",
        "    # Correlation heatmap of selected numeric features (if feasible)\n",
        "    if X_selected.select_dtypes(include=['int64', 'float64']).shape[1] <= 20:  # Limit to avoid performance issues\n",
        "        plt.figure(figsize=(12, 8))\n",
        "        sns.heatmap(X_selected.select_dtypes(include=['int64', 'float64']).corr(), annot=True, cmap='coolwarm', vmin=-1, vmax=1)\n",
        "        plt.title('Correlation Heatmap of Selected Features')\n",
        "        plt.savefig('figures/feature_correlation_heatmap.png')\n",
        "        plt.close()\n",
        "\n",
        "    # Save models\n",
        "    joblib.dump(preprocessor, 'preprocessor.pkl')\n",
        "    joblib.dump(le, 'label_encoder.pkl')\n",
        "    ann_model.save('fitness_ann_model.h5')\n",
        "    joblib.dump(xgb_model, 'fitness_xgb_model.pkl')\n",
        "\n",
        "if __name__ == '__main__':\n",
        "    main()"
      ]
    },
    {
      "cell_type": "code",
      "execution_count": 4,
      "metadata": {
        "colab": {
          "base_uri": "https://localhost:8080/",
          "height": 17
        },
        "id": "ojQTQS3_ZBss",
        "outputId": "9d5454a0-fc63-4f4b-9fcb-1ec1e5ee3077"
      },
      "outputs": [
        {
          "data": {
            "application/javascript": "\n    async function download(id, filename, size) {\n      if (!google.colab.kernel.accessAllowed) {\n        return;\n      }\n      const div = document.createElement('div');\n      const label = document.createElement('label');\n      label.textContent = `Downloading \"${filename}\": `;\n      div.appendChild(label);\n      const progress = document.createElement('progress');\n      progress.max = size;\n      div.appendChild(progress);\n      document.body.appendChild(div);\n\n      const buffers = [];\n      let downloaded = 0;\n\n      const channel = await google.colab.kernel.comms.open(id);\n      // Send a message to notify the kernel that we're ready.\n      channel.send({})\n\n      for await (const message of channel.messages) {\n        // Send a message to notify the kernel that we're ready.\n        channel.send({})\n        if (message.buffers) {\n          for (const buffer of message.buffers) {\n            buffers.push(buffer);\n            downloaded += buffer.byteLength;\n            progress.value = downloaded;\n          }\n        }\n      }\n      const blob = new Blob(buffers, {type: 'application/binary'});\n      const a = document.createElement('a');\n      a.href = window.URL.createObjectURL(blob);\n      a.download = filename;\n      div.appendChild(a);\n      a.click();\n      div.remove();\n    }\n  ",
            "text/plain": [
              "<IPython.core.display.Javascript object>"
            ]
          },
          "metadata": {},
          "output_type": "display_data"
        },
        {
          "data": {
            "application/javascript": "download(\"download_8f21c858-7f31-442e-81fe-9f4ecdeef271\", \"preprocessor.pkl\", 4296)",
            "text/plain": [
              "<IPython.core.display.Javascript object>"
            ]
          },
          "metadata": {},
          "output_type": "display_data"
        },
        {
          "data": {
            "application/javascript": "\n    async function download(id, filename, size) {\n      if (!google.colab.kernel.accessAllowed) {\n        return;\n      }\n      const div = document.createElement('div');\n      const label = document.createElement('label');\n      label.textContent = `Downloading \"${filename}\": `;\n      div.appendChild(label);\n      const progress = document.createElement('progress');\n      progress.max = size;\n      div.appendChild(progress);\n      document.body.appendChild(div);\n\n      const buffers = [];\n      let downloaded = 0;\n\n      const channel = await google.colab.kernel.comms.open(id);\n      // Send a message to notify the kernel that we're ready.\n      channel.send({})\n\n      for await (const message of channel.messages) {\n        // Send a message to notify the kernel that we're ready.\n        channel.send({})\n        if (message.buffers) {\n          for (const buffer of message.buffers) {\n            buffers.push(buffer);\n            downloaded += buffer.byteLength;\n            progress.value = downloaded;\n          }\n        }\n      }\n      const blob = new Blob(buffers, {type: 'application/binary'});\n      const a = document.createElement('a');\n      a.href = window.URL.createObjectURL(blob);\n      a.download = filename;\n      div.appendChild(a);\n      a.click();\n      div.remove();\n    }\n  ",
            "text/plain": [
              "<IPython.core.display.Javascript object>"
            ]
          },
          "metadata": {},
          "output_type": "display_data"
        },
        {
          "data": {
            "application/javascript": "download(\"download_63ebf2d2-5b50-4736-942a-1402a7c7fd36\", \"label_encoder.pkl\", 594)",
            "text/plain": [
              "<IPython.core.display.Javascript object>"
            ]
          },
          "metadata": {},
          "output_type": "display_data"
        },
        {
          "data": {
            "application/javascript": "\n    async function download(id, filename, size) {\n      if (!google.colab.kernel.accessAllowed) {\n        return;\n      }\n      const div = document.createElement('div');\n      const label = document.createElement('label');\n      label.textContent = `Downloading \"${filename}\": `;\n      div.appendChild(label);\n      const progress = document.createElement('progress');\n      progress.max = size;\n      div.appendChild(progress);\n      document.body.appendChild(div);\n\n      const buffers = [];\n      let downloaded = 0;\n\n      const channel = await google.colab.kernel.comms.open(id);\n      // Send a message to notify the kernel that we're ready.\n      channel.send({})\n\n      for await (const message of channel.messages) {\n        // Send a message to notify the kernel that we're ready.\n        channel.send({})\n        if (message.buffers) {\n          for (const buffer of message.buffers) {\n            buffers.push(buffer);\n            downloaded += buffer.byteLength;\n            progress.value = downloaded;\n          }\n        }\n      }\n      const blob = new Blob(buffers, {type: 'application/binary'});\n      const a = document.createElement('a');\n      a.href = window.URL.createObjectURL(blob);\n      a.download = filename;\n      div.appendChild(a);\n      a.click();\n      div.remove();\n    }\n  ",
            "text/plain": [
              "<IPython.core.display.Javascript object>"
            ]
          },
          "metadata": {},
          "output_type": "display_data"
        },
        {
          "data": {
            "application/javascript": "download(\"download_fa8fa3df-2dfc-49f5-a2f3-b221d3e2e0d3\", \"fitness_ann_model.h5\", 222872)",
            "text/plain": [
              "<IPython.core.display.Javascript object>"
            ]
          },
          "metadata": {},
          "output_type": "display_data"
        },
        {
          "data": {
            "application/javascript": "\n    async function download(id, filename, size) {\n      if (!google.colab.kernel.accessAllowed) {\n        return;\n      }\n      const div = document.createElement('div');\n      const label = document.createElement('label');\n      label.textContent = `Downloading \"${filename}\": `;\n      div.appendChild(label);\n      const progress = document.createElement('progress');\n      progress.max = size;\n      div.appendChild(progress);\n      document.body.appendChild(div);\n\n      const buffers = [];\n      let downloaded = 0;\n\n      const channel = await google.colab.kernel.comms.open(id);\n      // Send a message to notify the kernel that we're ready.\n      channel.send({})\n\n      for await (const message of channel.messages) {\n        // Send a message to notify the kernel that we're ready.\n        channel.send({})\n        if (message.buffers) {\n          for (const buffer of message.buffers) {\n            buffers.push(buffer);\n            downloaded += buffer.byteLength;\n            progress.value = downloaded;\n          }\n        }\n      }\n      const blob = new Blob(buffers, {type: 'application/binary'});\n      const a = document.createElement('a');\n      a.href = window.URL.createObjectURL(blob);\n      a.download = filename;\n      div.appendChild(a);\n      a.click();\n      div.remove();\n    }\n  ",
            "text/plain": [
              "<IPython.core.display.Javascript object>"
            ]
          },
          "metadata": {},
          "output_type": "display_data"
        },
        {
          "data": {
            "application/javascript": "download(\"download_935e316f-0b8d-4695-9d8f-ae89b684d389\", \"fitness_xgb_model.pkl\", 848462)",
            "text/plain": [
              "<IPython.core.display.Javascript object>"
            ]
          },
          "metadata": {},
          "output_type": "display_data"
        },
        {
          "data": {
            "application/javascript": "\n    async function download(id, filename, size) {\n      if (!google.colab.kernel.accessAllowed) {\n        return;\n      }\n      const div = document.createElement('div');\n      const label = document.createElement('label');\n      label.textContent = `Downloading \"${filename}\": `;\n      div.appendChild(label);\n      const progress = document.createElement('progress');\n      progress.max = size;\n      div.appendChild(progress);\n      document.body.appendChild(div);\n\n      const buffers = [];\n      let downloaded = 0;\n\n      const channel = await google.colab.kernel.comms.open(id);\n      // Send a message to notify the kernel that we're ready.\n      channel.send({})\n\n      for await (const message of channel.messages) {\n        // Send a message to notify the kernel that we're ready.\n        channel.send({})\n        if (message.buffers) {\n          for (const buffer of message.buffers) {\n            buffers.push(buffer);\n            downloaded += buffer.byteLength;\n            progress.value = downloaded;\n          }\n        }\n      }\n      const blob = new Blob(buffers, {type: 'application/binary'});\n      const a = document.createElement('a');\n      a.href = window.URL.createObjectURL(blob);\n      a.download = filename;\n      div.appendChild(a);\n      a.click();\n      div.remove();\n    }\n  ",
            "text/plain": [
              "<IPython.core.display.Javascript object>"
            ]
          },
          "metadata": {},
          "output_type": "display_data"
        },
        {
          "data": {
            "application/javascript": "download(\"download_154da252-185c-4ad7-bb52-e301e5236784\", \"feature_correlation_heatmap.png\", 180455)",
            "text/plain": [
              "<IPython.core.display.Javascript object>"
            ]
          },
          "metadata": {},
          "output_type": "display_data"
        },
        {
          "data": {
            "application/javascript": "\n    async function download(id, filename, size) {\n      if (!google.colab.kernel.accessAllowed) {\n        return;\n      }\n      const div = document.createElement('div');\n      const label = document.createElement('label');\n      label.textContent = `Downloading \"${filename}\": `;\n      div.appendChild(label);\n      const progress = document.createElement('progress');\n      progress.max = size;\n      div.appendChild(progress);\n      document.body.appendChild(div);\n\n      const buffers = [];\n      let downloaded = 0;\n\n      const channel = await google.colab.kernel.comms.open(id);\n      // Send a message to notify the kernel that we're ready.\n      channel.send({})\n\n      for await (const message of channel.messages) {\n        // Send a message to notify the kernel that we're ready.\n        channel.send({})\n        if (message.buffers) {\n          for (const buffer of message.buffers) {\n            buffers.push(buffer);\n            downloaded += buffer.byteLength;\n            progress.value = downloaded;\n          }\n        }\n      }\n      const blob = new Blob(buffers, {type: 'application/binary'});\n      const a = document.createElement('a');\n      a.href = window.URL.createObjectURL(blob);\n      a.download = filename;\n      div.appendChild(a);\n      a.click();\n      div.remove();\n    }\n  ",
            "text/plain": [
              "<IPython.core.display.Javascript object>"
            ]
          },
          "metadata": {},
          "output_type": "display_data"
        },
        {
          "data": {
            "application/javascript": "download(\"download_5de9d14d-64e4-4239-bac4-2505693847b5\", \"xgboost_feature_importance.png\", 29590)",
            "text/plain": [
              "<IPython.core.display.Javascript object>"
            ]
          },
          "metadata": {},
          "output_type": "display_data"
        },
        {
          "data": {
            "application/javascript": "\n    async function download(id, filename, size) {\n      if (!google.colab.kernel.accessAllowed) {\n        return;\n      }\n      const div = document.createElement('div');\n      const label = document.createElement('label');\n      label.textContent = `Downloading \"${filename}\": `;\n      div.appendChild(label);\n      const progress = document.createElement('progress');\n      progress.max = size;\n      div.appendChild(progress);\n      document.body.appendChild(div);\n\n      const buffers = [];\n      let downloaded = 0;\n\n      const channel = await google.colab.kernel.comms.open(id);\n      // Send a message to notify the kernel that we're ready.\n      channel.send({})\n\n      for await (const message of channel.messages) {\n        // Send a message to notify the kernel that we're ready.\n        channel.send({})\n        if (message.buffers) {\n          for (const buffer of message.buffers) {\n            buffers.push(buffer);\n            downloaded += buffer.byteLength;\n            progress.value = downloaded;\n          }\n        }\n      }\n      const blob = new Blob(buffers, {type: 'application/binary'});\n      const a = document.createElement('a');\n      a.href = window.URL.createObjectURL(blob);\n      a.download = filename;\n      div.appendChild(a);\n      a.click();\n      div.remove();\n    }\n  ",
            "text/plain": [
              "<IPython.core.display.Javascript object>"
            ]
          },
          "metadata": {},
          "output_type": "display_data"
        },
        {
          "data": {
            "application/javascript": "download(\"download_270132e1-5613-4edd-87ed-0f4b781d2004\", \"ann_training_history.png\", 60554)",
            "text/plain": [
              "<IPython.core.display.Javascript object>"
            ]
          },
          "metadata": {},
          "output_type": "display_data"
        },
        {
          "data": {
            "application/javascript": "\n    async function download(id, filename, size) {\n      if (!google.colab.kernel.accessAllowed) {\n        return;\n      }\n      const div = document.createElement('div');\n      const label = document.createElement('label');\n      label.textContent = `Downloading \"${filename}\": `;\n      div.appendChild(label);\n      const progress = document.createElement('progress');\n      progress.max = size;\n      div.appendChild(progress);\n      document.body.appendChild(div);\n\n      const buffers = [];\n      let downloaded = 0;\n\n      const channel = await google.colab.kernel.comms.open(id);\n      // Send a message to notify the kernel that we're ready.\n      channel.send({})\n\n      for await (const message of channel.messages) {\n        // Send a message to notify the kernel that we're ready.\n        channel.send({})\n        if (message.buffers) {\n          for (const buffer of message.buffers) {\n            buffers.push(buffer);\n            downloaded += buffer.byteLength;\n            progress.value = downloaded;\n          }\n        }\n      }\n      const blob = new Blob(buffers, {type: 'application/binary'});\n      const a = document.createElement('a');\n      a.href = window.URL.createObjectURL(blob);\n      a.download = filename;\n      div.appendChild(a);\n      a.click();\n      div.remove();\n    }\n  ",
            "text/plain": [
              "<IPython.core.display.Javascript object>"
            ]
          },
          "metadata": {},
          "output_type": "display_data"
        },
        {
          "data": {
            "application/javascript": "download(\"download_c142daac-a8bc-4f1c-99a7-592686248d4e\", \"cv_accuracy_comparison.png\", 21771)",
            "text/plain": [
              "<IPython.core.display.Javascript object>"
            ]
          },
          "metadata": {},
          "output_type": "display_data"
        },
        {
          "data": {
            "application/javascript": "\n    async function download(id, filename, size) {\n      if (!google.colab.kernel.accessAllowed) {\n        return;\n      }\n      const div = document.createElement('div');\n      const label = document.createElement('label');\n      label.textContent = `Downloading \"${filename}\": `;\n      div.appendChild(label);\n      const progress = document.createElement('progress');\n      progress.max = size;\n      div.appendChild(progress);\n      document.body.appendChild(div);\n\n      const buffers = [];\n      let downloaded = 0;\n\n      const channel = await google.colab.kernel.comms.open(id);\n      // Send a message to notify the kernel that we're ready.\n      channel.send({})\n\n      for await (const message of channel.messages) {\n        // Send a message to notify the kernel that we're ready.\n        channel.send({})\n        if (message.buffers) {\n          for (const buffer of message.buffers) {\n            buffers.push(buffer);\n            downloaded += buffer.byteLength;\n            progress.value = downloaded;\n          }\n        }\n      }\n      const blob = new Blob(buffers, {type: 'application/binary'});\n      const a = document.createElement('a');\n      a.href = window.URL.createObjectURL(blob);\n      a.download = filename;\n      div.appendChild(a);\n      a.click();\n      div.remove();\n    }\n  ",
            "text/plain": [
              "<IPython.core.display.Javascript object>"
            ]
          },
          "metadata": {},
          "output_type": "display_data"
        },
        {
          "data": {
            "application/javascript": "download(\"download_60fd28fe-8b74-4418-ad9a-4222f0c1e935\", \"ann_confusion_matrix.png\", 22252)",
            "text/plain": [
              "<IPython.core.display.Javascript object>"
            ]
          },
          "metadata": {},
          "output_type": "display_data"
        },
        {
          "data": {
            "application/javascript": "\n    async function download(id, filename, size) {\n      if (!google.colab.kernel.accessAllowed) {\n        return;\n      }\n      const div = document.createElement('div');\n      const label = document.createElement('label');\n      label.textContent = `Downloading \"${filename}\": `;\n      div.appendChild(label);\n      const progress = document.createElement('progress');\n      progress.max = size;\n      div.appendChild(progress);\n      document.body.appendChild(div);\n\n      const buffers = [];\n      let downloaded = 0;\n\n      const channel = await google.colab.kernel.comms.open(id);\n      // Send a message to notify the kernel that we're ready.\n      channel.send({})\n\n      for await (const message of channel.messages) {\n        // Send a message to notify the kernel that we're ready.\n        channel.send({})\n        if (message.buffers) {\n          for (const buffer of message.buffers) {\n            buffers.push(buffer);\n            downloaded += buffer.byteLength;\n            progress.value = downloaded;\n          }\n        }\n      }\n      const blob = new Blob(buffers, {type: 'application/binary'});\n      const a = document.createElement('a');\n      a.href = window.URL.createObjectURL(blob);\n      a.download = filename;\n      div.appendChild(a);\n      a.click();\n      div.remove();\n    }\n  ",
            "text/plain": [
              "<IPython.core.display.Javascript object>"
            ]
          },
          "metadata": {},
          "output_type": "display_data"
        },
        {
          "data": {
            "application/javascript": "download(\"download_a2d6ea9b-4399-47c4-8ff3-90f4ece1ae9e\", \"xgboost_confusion_matrix.png\", 20490)",
            "text/plain": [
              "<IPython.core.display.Javascript object>"
            ]
          },
          "metadata": {},
          "output_type": "display_data"
        }
      ],
      "source": [
        "from google.colab import files\n",
        "\n",
        "# Download preprocessing and model files\n",
        "files.download('preprocessor.pkl')\n",
        "files.download('label_encoder.pkl')\n",
        "files.download('fitness_ann_model.h5')\n",
        "files.download('fitness_xgb_model.pkl')\n",
        "\n",
        "# Download all plots from the figures directory\n",
        "import os\n",
        "figures_dir = 'figures'\n",
        "for filename in os.listdir(figures_dir):\n",
        "    if filename.endswith('.png'):\n",
        "        files.download(os.path.join(figures_dir, filename))"
      ]
    }
  ],
  "metadata": {
    "accelerator": "GPU",
    "colab": {
      "gpuType": "T4",
      "provenance": []
    },
    "kernelspec": {
      "display_name": "Python 3",
      "name": "python3"
    },
    "language_info": {
      "codemirror_mode": {
        "name": "ipython",
        "version": 3
      },
      "file_extension": ".py",
      "mimetype": "text/x-python",
      "name": "python",
      "nbconvert_exporter": "python",
      "pygments_lexer": "ipython3",
      "version": "3.12.3"
    }
  },
  "nbformat": 4,
  "nbformat_minor": 0
}
